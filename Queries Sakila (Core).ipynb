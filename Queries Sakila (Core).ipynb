{
 "cells": [
  {
   "cell_type": "code",
   "execution_count": 1,
   "id": "ae71b6a2",
   "metadata": {},
   "outputs": [],
   "source": [
    "#Query 1\n",
    "SELECT customer.first_name, \n",
    "\tcustomer.last_name, \n",
    "    customer.email, \n",
    "    address.address,\n",
    "    city.city\n",
    "FROM customer\n",
    "JOIN address ON customer.address_id = address.address_id\n",
    "JOIN city ON city.city_id = address.city_id\n",
    "WHERE address.city_id = 312;"
   ]
  },
  {
   "cell_type": "code",
   "execution_count": null,
   "id": "a096ff48",
   "metadata": {},
   "outputs": [],
   "source": [
    "#Query 2\n",
    "SELECT film.title,\n",
    "\tfilm.description,\n",
    "    film.release_year,\n",
    "    film.rating,\n",
    "    film.special_features\n",
    "FROM film\n",
    "JOIN film_category ON film_category.film_id = film.film_id\n",
    "JOIN category ON category.category_id = film_category.category_id\n",
    "WHERE category.name = 'comedy';"
   ]
  },
  {
   "cell_type": "code",
   "execution_count": null,
   "id": "02ac3f69",
   "metadata": {},
   "outputs": [],
   "source": [
    "#Query 3\n",
    "SELECT actor.last_name,\n",
    "\tfilm.title,\n",
    "    film.release_year\n",
    "FROM film\n",
    "JOIN film_actor ON film_actor.film_id = film.film_id\n",
    "JOIN actor ON actor.actor_id = film_actor.actor_id\n",
    "WHERE actor.last_name = 'Lollobrigida';"
   ]
  },
  {
   "cell_type": "code",
   "execution_count": null,
   "id": "6b988ff3",
   "metadata": {},
   "outputs": [],
   "source": [
    "#Query 4\n",
    "SELECT actor.first_name,\n",
    "\tactor.last_name,\n",
    "    film.title\n",
    "FROM film\n",
    "JOIN film_actor ON film_actor.film_id = film.film_id\n",
    "JOIN actor ON actor.actor_id = film_actor.actor_id\n",
    "WHERE film.title = 'Bingo Talented';"
   ]
  },
  {
   "cell_type": "code",
   "execution_count": null,
   "id": "f2e30919",
   "metadata": {},
   "outputs": [],
   "source": [
    "#Query 5\n",
    "select payment.customer_id, payment.amount \n",
    "from payment\n",
    "where payment.amount > (select (2*avg(payment.amount))\n",
    "from payment);"
   ]
  },
  {
   "cell_type": "code",
   "execution_count": null,
   "id": "c8c79926",
   "metadata": {},
   "outputs": [],
   "source": [
    "#Query 6\n",
    "SELECT customer.first_name,\n",
    "\tcustomer.last_name,\n",
    "    COUNT(payment.payment_id) AS Num_Payments\n",
    "FROM customer\n",
    "JOIN payment ON customer.customer_id = payment.customer_id\n",
    "GROUP BY customer.customer_id\n",
    "ORDER BY Num_Payments DESC\n",
    "LIMIT 5;"
   ]
  }
 ],
 "metadata": {
  "kernelspec": {
   "display_name": "Python (dojo-env)",
   "language": "python",
   "name": "dojo-env"
  },
  "language_info": {
   "codemirror_mode": {
    "name": "ipython",
    "version": 3
   },
   "file_extension": ".py",
   "mimetype": "text/x-python",
   "name": "python",
   "nbconvert_exporter": "python",
   "pygments_lexer": "ipython3",
   "version": "3.9.15"
  },
  "toc": {
   "base_numbering": 1,
   "nav_menu": {},
   "number_sections": false,
   "sideBar": true,
   "skip_h1_title": false,
   "title_cell": "Table of Contents",
   "title_sidebar": "Contents",
   "toc_cell": false,
   "toc_position": {},
   "toc_section_display": true,
   "toc_window_display": false
  }
 },
 "nbformat": 4,
 "nbformat_minor": 5
}
